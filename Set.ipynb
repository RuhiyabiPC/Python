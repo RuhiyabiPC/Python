{
  "nbformat": 4,
  "nbformat_minor": 0,
  "metadata": {
    "colab": {
      "provenance": []
    },
    "kernelspec": {
      "name": "python3",
      "display_name": "Python 3"
    },
    "language_info": {
      "name": "python"
    }
  },
  "cells": [
    {
      "cell_type": "code",
      "source": [
        "#create a set\n",
        "flowers={\"Rose\",\"lilly\",\"lotus\"}\n",
        "print(flowers)"
      ],
      "metadata": {
        "colab": {
          "base_uri": "https://localhost:8080/"
        },
        "id": "rIyDABm4Mh7Y",
        "outputId": "0eb7395e-5308-48a5-e2f2-7f233b4aa02e"
      },
      "execution_count": 6,
      "outputs": [
        {
          "output_type": "stream",
          "name": "stdout",
          "text": [
            "{'lotus', 'Rose', 'lilly'}\n"
          ]
        }
      ]
    },
    {
      "cell_type": "code",
      "source": [
        "# Remove\n",
        "flowers.remove(\"lilly\")\n",
        "print(flowers)"
      ],
      "metadata": {
        "colab": {
          "base_uri": "https://localhost:8080/"
        },
        "id": "bt8tpL5cOzh6",
        "outputId": "e8733918-2a76-47cf-9ca9-bc8e9ee7841d"
      },
      "execution_count": 7,
      "outputs": [
        {
          "output_type": "stream",
          "name": "stdout",
          "text": [
            "{'lotus', 'Rose'}\n"
          ]
        }
      ]
    },
    {
      "cell_type": "code",
      "source": [
        "# Discard\n",
        "flowers.discard(\"Rose\")\n",
        "print(flowers)"
      ],
      "metadata": {
        "colab": {
          "base_uri": "https://localhost:8080/"
        },
        "id": "-F0mu2nIPl58",
        "outputId": "05997a4a-290d-4023-c08a-f1c0d09623ec"
      },
      "execution_count": 8,
      "outputs": [
        {
          "output_type": "stream",
          "name": "stdout",
          "text": [
            "{'lotus'}\n"
          ]
        }
      ]
    },
    {
      "cell_type": "code",
      "source": [
        "# Discard\n",
        "flowers.discard(\"jasmin\")\n",
        "print(flowers)"
      ],
      "metadata": {
        "colab": {
          "base_uri": "https://localhost:8080/"
        },
        "id": "JZGmSCqFP8oi",
        "outputId": "5fe817db-1d4d-4319-d524-148053f7b47e"
      },
      "execution_count": 12,
      "outputs": [
        {
          "output_type": "stream",
          "name": "stdout",
          "text": [
            "{'lotus'}\n"
          ]
        }
      ]
    },
    {
      "cell_type": "code",
      "source": [
        "#join....Union\n",
        "boys={1,2,3,4}\n",
        "girls={2,4,6,8}\n",
        "Total=boys.union(girls)\n",
        "print(Total)\n"
      ],
      "metadata": {
        "colab": {
          "base_uri": "https://localhost:8080/"
        },
        "id": "5aqT1BrWQdDE",
        "outputId": "860d0ffc-b22c-49e4-ac22-8b0d1a9a7fb6"
      },
      "execution_count": 13,
      "outputs": [
        {
          "output_type": "stream",
          "name": "stdout",
          "text": [
            "{1, 2, 3, 4, 6, 8}\n"
          ]
        }
      ]
    },
    {
      "cell_type": "code",
      "source": [
        "# difference\n",
        "boys={1,2,3,4}\n",
        "girls={2,4,6,8}\n",
        "\n",
        "#using the operator\n",
        "difference_operator=boys-girls\n",
        "print(difference_operator)\n",
        "\n",
        "difference_operator=girls-boys\n",
        "print(difference_operator)\n",
        "\n",
        "#using difference() method\n",
        "d=boys.difference(girls)\n",
        "print(d)\n"
      ],
      "metadata": {
        "colab": {
          "base_uri": "https://localhost:8080/"
        },
        "id": "J2_bXQ4nRiBi",
        "outputId": "b2f86ace-1d07-47f9-815c-60e5339d11a6"
      },
      "execution_count": 16,
      "outputs": [
        {
          "output_type": "stream",
          "name": "stdout",
          "text": [
            "{1, 3}\n",
            "{8, 6}\n",
            "{1, 3}\n"
          ]
        }
      ]
    },
    {
      "cell_type": "code",
      "source": [
        "#union\n",
        "boys={1,2,3,4}\n",
        "girls={2,4,6,8}\n",
        "\n",
        "total=boys&girls\n",
        "print(total)"
      ],
      "metadata": {
        "colab": {
          "base_uri": "https://localhost:8080/"
        },
        "id": "fgr4NYlwUf1o",
        "outputId": "8e83adfd-800d-4c03-a4ac-d199ccb8c37b"
      },
      "execution_count": 17,
      "outputs": [
        {
          "output_type": "stream",
          "name": "stdout",
          "text": [
            "{2, 4}\n"
          ]
        }
      ]
    },
    {
      "cell_type": "code",
      "source": [
        "#intersection\n",
        "boys={1,2,3,4}\n",
        "girls={2,4,6,8}\n",
        "\n",
        "total=boys.intersection(girls)\n",
        "print(total)\n"
      ],
      "metadata": {
        "colab": {
          "base_uri": "https://localhost:8080/"
        },
        "id": "CuHcwh3JVAJr",
        "outputId": "5b7524a6-31c0-415a-a574-642a24cf5296"
      },
      "execution_count": 19,
      "outputs": [
        {
          "output_type": "stream",
          "name": "stdout",
          "text": [
            "{2, 4}\n"
          ]
        }
      ]
    },
    {
      "cell_type": "code",
      "source": [
        "#clear\n",
        "boys={1,2,3,4}\n",
        "girls={2,4,6,8}\n",
        "\n",
        "boys.clear()\n",
        "print(boys)\n"
      ],
      "metadata": {
        "colab": {
          "base_uri": "https://localhost:8080/"
        },
        "id": "OFhRjofQVcXv",
        "outputId": "12db88b7-6600-4e51-dec9-83dcfebdf463"
      },
      "execution_count": 22,
      "outputs": [
        {
          "output_type": "stream",
          "name": "stdout",
          "text": [
            "set()\n"
          ]
        }
      ]
    },
    {
      "cell_type": "code",
      "source": [
        "#del\n",
        "boys={1,2,3,4}\n",
        "girls={2,4,6,8}\n",
        "\n",
        "del boys\n",
        "print(boys)\n"
      ],
      "metadata": {
        "colab": {
          "base_uri": "https://localhost:8080/",
          "height": 176
        },
        "id": "VxZvtoZCV0Vf",
        "outputId": "225ccbed-ea74-47a3-b0bd-8422556efd91"
      },
      "execution_count": 24,
      "outputs": [
        {
          "output_type": "error",
          "ename": "NameError",
          "evalue": "name 'boys' is not defined",
          "traceback": [
            "\u001b[0;31m---------------------------------------------------------------------------\u001b[0m",
            "\u001b[0;31mNameError\u001b[0m                                 Traceback (most recent call last)",
            "\u001b[0;32m<ipython-input-24-0f21285c1d2a>\u001b[0m in \u001b[0;36m<cell line: 6>\u001b[0;34m()\u001b[0m\n\u001b[1;32m      4\u001b[0m \u001b[0;34m\u001b[0m\u001b[0m\n\u001b[1;32m      5\u001b[0m \u001b[0;32mdel\u001b[0m \u001b[0mboys\u001b[0m\u001b[0;34m\u001b[0m\u001b[0;34m\u001b[0m\u001b[0m\n\u001b[0;32m----> 6\u001b[0;31m \u001b[0mprint\u001b[0m\u001b[0;34m(\u001b[0m\u001b[0mboys\u001b[0m\u001b[0;34m)\u001b[0m\u001b[0;34m\u001b[0m\u001b[0;34m\u001b[0m\u001b[0m\n\u001b[0m",
            "\u001b[0;31mNameError\u001b[0m: name 'boys' is not defined"
          ]
        }
      ]
    },
    {
      "cell_type": "code",
      "source": [
        "# Practice...\n",
        "\n",
        "#creat sets\n",
        "fruits={\"mango\",\"apple\",\"orenge\"}\n",
        "#remove\n",
        "fruits.remove(\"banana\")\n",
        "print(fruits)\n"
      ],
      "metadata": {
        "colab": {
          "base_uri": "https://localhost:8080/",
          "height": 193
        },
        "id": "sROUDWLnXMaF",
        "outputId": "cacd110e-e54d-4e75-9b27-5a0e73712627"
      },
      "execution_count": 28,
      "outputs": [
        {
          "output_type": "error",
          "ename": "KeyError",
          "evalue": "'banana'",
          "traceback": [
            "\u001b[0;31m---------------------------------------------------------------------------\u001b[0m",
            "\u001b[0;31mKeyError\u001b[0m                                  Traceback (most recent call last)",
            "\u001b[0;32m<ipython-input-28-74a7d158804a>\u001b[0m in \u001b[0;36m<cell line: 6>\u001b[0;34m()\u001b[0m\n\u001b[1;32m      4\u001b[0m \u001b[0mfruits\u001b[0m\u001b[0;34m=\u001b[0m\u001b[0;34m{\u001b[0m\u001b[0;34m\"mango\"\u001b[0m\u001b[0;34m,\u001b[0m\u001b[0;34m\"apple\"\u001b[0m\u001b[0;34m,\u001b[0m\u001b[0;34m\"orenge\"\u001b[0m\u001b[0;34m}\u001b[0m\u001b[0;34m\u001b[0m\u001b[0;34m\u001b[0m\u001b[0m\n\u001b[1;32m      5\u001b[0m \u001b[0;31m#remove\u001b[0m\u001b[0;34m\u001b[0m\u001b[0;34m\u001b[0m\u001b[0m\n\u001b[0;32m----> 6\u001b[0;31m \u001b[0mfruits\u001b[0m\u001b[0;34m.\u001b[0m\u001b[0mremove\u001b[0m\u001b[0;34m(\u001b[0m\u001b[0;34m\"banana\"\u001b[0m\u001b[0;34m)\u001b[0m\u001b[0;34m\u001b[0m\u001b[0;34m\u001b[0m\u001b[0m\n\u001b[0m\u001b[1;32m      7\u001b[0m \u001b[0mprint\u001b[0m\u001b[0;34m(\u001b[0m\u001b[0mfruits\u001b[0m\u001b[0;34m)\u001b[0m\u001b[0;34m\u001b[0m\u001b[0;34m\u001b[0m\u001b[0m\n",
            "\u001b[0;31mKeyError\u001b[0m: 'banana'"
          ]
        }
      ]
    },
    {
      "cell_type": "code",
      "source": [
        "#discar\n",
        "fruits.discard(\"banana\")\n",
        "print(fruits)"
      ],
      "metadata": {
        "colab": {
          "base_uri": "https://localhost:8080/"
        },
        "id": "-zyaEYdHYKGQ",
        "outputId": "2abee5b4-f4fc-4611-cc55-39c1d4905dea"
      },
      "execution_count": 27,
      "outputs": [
        {
          "output_type": "stream",
          "name": "stdout",
          "text": [
            "{'orenge', 'apple'}\n"
          ]
        }
      ]
    },
    {
      "cell_type": "code",
      "source": [
        "#union\n",
        "fruits={\"mango\",\"apple\",\"orenge\"}\n",
        "vegitables={\"tomato\",\"pottato\",\"brinjal\"}\n",
        "\n",
        "all=fruits.union(vegitables)\n",
        "print(all)"
      ],
      "metadata": {
        "colab": {
          "base_uri": "https://localhost:8080/"
        },
        "id": "nXRGhjxxYvj9",
        "outputId": "3fe35b40-4094-4b63-d7b6-6b5ea49ab54f"
      },
      "execution_count": 29,
      "outputs": [
        {
          "output_type": "stream",
          "name": "stdout",
          "text": [
            "{'orenge', 'tomato', 'brinjal', 'apple', 'mango', 'pottato'}\n"
          ]
        }
      ]
    },
    {
      "cell_type": "code",
      "source": [
        "#differece\n",
        "fruits={\"mango\",\"apple\",\"orenge\"}\n",
        "vegitables={\"tomato\",\"pottato\",\"brinjal\"}\n",
        "\n",
        "#sing the operator\n",
        "diff=fruits-vegitables\n",
        "print(diff)\n",
        "diff=vegitables-fruits\n",
        "print(diff)"
      ],
      "metadata": {
        "colab": {
          "base_uri": "https://localhost:8080/"
        },
        "id": "maj3mCc2ZiNV",
        "outputId": "58ae8143-629b-40bf-dfb4-a6afbbb026ee"
      },
      "execution_count": 32,
      "outputs": [
        {
          "output_type": "stream",
          "name": "stdout",
          "text": [
            "{'orenge', 'apple', 'mango'}\n",
            "{'brinjal', 'tomato', 'pottato'}\n"
          ]
        }
      ]
    },
    {
      "cell_type": "code",
      "source": [
        "# Dictionary\n",
        "malayalam_dic={\"name\":\"anu\",\"email\":\"anu1@gmail.com\",\"phone\":1234567890}\n",
        "print(malayalam_dic)"
      ],
      "metadata": {
        "colab": {
          "base_uri": "https://localhost:8080/"
        },
        "id": "RHEpf6HUagV_",
        "outputId": "72450693-558e-4c94-b4a5-0d062e537d28"
      },
      "execution_count": 33,
      "outputs": [
        {
          "output_type": "stream",
          "name": "stdout",
          "text": [
            "{'name': 'anu', 'email': 'anu1@gmail.com', 'phone': 1234567890}\n"
          ]
        }
      ]
    },
    {
      "cell_type": "code",
      "source": [
        "# to access a purticular value\n",
        "a=malayalam_dic[\"name\"]\n",
        "print(a)"
      ],
      "metadata": {
        "colab": {
          "base_uri": "https://localhost:8080/"
        },
        "id": "dYT5-DTpcO38",
        "outputId": "3cf821d6-eab5-4e3c-f52b-2d86897cc1d0"
      },
      "execution_count": 34,
      "outputs": [
        {
          "output_type": "stream",
          "name": "stdout",
          "text": [
            "anu\n"
          ]
        }
      ]
    },
    {
      "cell_type": "code",
      "source": [
        "# get()method\n",
        "a=malayalam_dic.get(\"name\")\n",
        "print(a)"
      ],
      "metadata": {
        "colab": {
          "base_uri": "https://localhost:8080/"
        },
        "id": "iXKU0l28cv2A",
        "outputId": "2a0c67d9-958f-4921-fa6b-b92c007b17eb"
      },
      "execution_count": 36,
      "outputs": [
        {
          "output_type": "stream",
          "name": "stdout",
          "text": [
            "anu\n"
          ]
        }
      ]
    },
    {
      "cell_type": "code",
      "source": [
        "# modify or change value\n",
        "malayalam_dic[\"name\"]=\"Anupama\"\n",
        "print(malayalam_dic)\n"
      ],
      "metadata": {
        "colab": {
          "base_uri": "https://localhost:8080/"
        },
        "id": "s7zPq_eedgjQ",
        "outputId": "37082fb3-e429-4528-cce0-da93898e68de"
      },
      "execution_count": 37,
      "outputs": [
        {
          "output_type": "stream",
          "name": "stdout",
          "text": [
            "{'name': 'Anupama', 'email': 'anu1@gmail.com', 'phone': 1234567890}\n"
          ]
        }
      ]
    },
    {
      "cell_type": "code",
      "source": [
        "# add a new field\n",
        "malayalam_dic[\"age\"]=30\n",
        "print(malayalam_dic)"
      ],
      "metadata": {
        "colab": {
          "base_uri": "https://localhost:8080/"
        },
        "id": "PasIxyIMeWLi",
        "outputId": "9dd952c5-f807-47d2-c689-5b06b2cbe0c4"
      },
      "execution_count": 38,
      "outputs": [
        {
          "output_type": "stream",
          "name": "stdout",
          "text": [
            "{'name': 'Anupama', 'email': 'anu1@gmail.com', 'phone': 1234567890, 'age': 30}\n"
          ]
        }
      ]
    },
    {
      "cell_type": "code",
      "source": [
        "#copy\n",
        "English_dic=malayalam_dic.copy()\n",
        "print(English_dic)"
      ],
      "metadata": {
        "colab": {
          "base_uri": "https://localhost:8080/"
        },
        "id": "j63WrffKcOpX",
        "outputId": "ce375819-1b1f-4786-bbfa-214a9a8ed7d2"
      },
      "execution_count": 39,
      "outputs": [
        {
          "output_type": "stream",
          "name": "stdout",
          "text": [
            "{'name': 'Anupama', 'email': 'anu1@gmail.com', 'phone': 1234567890, 'age': 30}\n"
          ]
        }
      ]
    },
    {
      "cell_type": "code",
      "source": [
        "#remove\n",
        "malayalam_dic.pop(\"email\")\n",
        "print(malayalam_dic)"
      ],
      "metadata": {
        "colab": {
          "base_uri": "https://localhost:8080/",
          "height": 176
        },
        "id": "9AkcNOcue6F5",
        "outputId": "a258f4ce-ff56-480f-947d-4ccf695c25f7"
      },
      "execution_count": 46,
      "outputs": [
        {
          "output_type": "error",
          "ename": "KeyError",
          "evalue": "'email'",
          "traceback": [
            "\u001b[0;31m---------------------------------------------------------------------------\u001b[0m",
            "\u001b[0;31mKeyError\u001b[0m                                  Traceback (most recent call last)",
            "\u001b[0;32m<ipython-input-46-e2b4273522b1>\u001b[0m in \u001b[0;36m<cell line: 2>\u001b[0;34m()\u001b[0m\n\u001b[1;32m      1\u001b[0m \u001b[0;31m#remove\u001b[0m\u001b[0;34m\u001b[0m\u001b[0;34m\u001b[0m\u001b[0m\n\u001b[0;32m----> 2\u001b[0;31m \u001b[0mmalayalam_dic\u001b[0m\u001b[0;34m.\u001b[0m\u001b[0mpop\u001b[0m\u001b[0;34m(\u001b[0m\u001b[0;34m\"email\"\u001b[0m\u001b[0;34m)\u001b[0m\u001b[0;34m\u001b[0m\u001b[0;34m\u001b[0m\u001b[0m\n\u001b[0m\u001b[1;32m      3\u001b[0m \u001b[0mprint\u001b[0m\u001b[0;34m(\u001b[0m\u001b[0mmalayalam_dic\u001b[0m\u001b[0;34m)\u001b[0m\u001b[0;34m\u001b[0m\u001b[0;34m\u001b[0m\u001b[0m\n",
            "\u001b[0;31mKeyError\u001b[0m: 'email'"
          ]
        }
      ]
    },
    {
      "cell_type": "code",
      "source": [
        "#del\n",
        "del malayalam_dic[\"name\"]\n",
        "print(malayalam_dic)"
      ],
      "metadata": {
        "colab": {
          "base_uri": "https://localhost:8080/"
        },
        "id": "P6YOD-qYf8W3",
        "outputId": "ea0ad929-79ea-4efb-874f-100b4bd30732"
      },
      "execution_count": 47,
      "outputs": [
        {
          "output_type": "stream",
          "name": "stdout",
          "text": [
            "{'age': 30}\n"
          ]
        }
      ]
    },
    {
      "cell_type": "code",
      "source": [
        "# String\n",
        "flower=\"lilly\",\"rose\",\"lotus\"\n",
        "print(flower)"
      ],
      "metadata": {
        "colab": {
          "base_uri": "https://localhost:8080/"
        },
        "id": "AdJ3DXqohb2n",
        "outputId": "6c4bda14-90dc-4b26-b0ad-89425afc3bd1"
      },
      "execution_count": 48,
      "outputs": [
        {
          "output_type": "stream",
          "name": "stdout",
          "text": [
            "('lilly', 'rose', 'lotus')\n"
          ]
        }
      ]
    },
    {
      "cell_type": "code",
      "source": [
        "#index value\n",
        "print(flower[0])"
      ],
      "metadata": {
        "colab": {
          "base_uri": "https://localhost:8080/"
        },
        "id": "SZiBiGERh_uM",
        "outputId": "8f8615d9-9653-4c55-f2b5-532525550a78"
      },
      "execution_count": 50,
      "outputs": [
        {
          "output_type": "stream",
          "name": "stdout",
          "text": [
            "lilly\n"
          ]
        }
      ]
    },
    {
      "cell_type": "code",
      "source": [
        "#slicing\n",
        "print(flower[0:1])"
      ],
      "metadata": {
        "colab": {
          "base_uri": "https://localhost:8080/"
        },
        "id": "SuCY9Pxxi-8z",
        "outputId": "41242d03-11d5-4bbb-9896-76cc198d3ed2"
      },
      "execution_count": 55,
      "outputs": [
        {
          "output_type": "stream",
          "name": "stdout",
          "text": [
            "('lilly',)\n"
          ]
        }
      ]
    },
    {
      "cell_type": "code",
      "source": [
        "a=\"  hello  \"\n",
        "print(a)"
      ],
      "metadata": {
        "colab": {
          "base_uri": "https://localhost:8080/"
        },
        "id": "hs2lFHWjkVgg",
        "outputId": "34208c0e-f7f8-43ff-b46d-7205feb5ff6e"
      },
      "execution_count": 56,
      "outputs": [
        {
          "output_type": "stream",
          "name": "stdout",
          "text": [
            "  hello  \n"
          ]
        }
      ]
    },
    {
      "cell_type": "code",
      "source": [
        "#strip\n",
        "print(a.strip())\n"
      ],
      "metadata": {
        "colab": {
          "base_uri": "https://localhost:8080/"
        },
        "id": "ZEKeyLnok1rz",
        "outputId": "dbebf6cc-88fc-443f-d83d-2c258bb3b61e"
      },
      "execution_count": 57,
      "outputs": [
        {
          "output_type": "stream",
          "name": "stdout",
          "text": [
            "hello\n"
          ]
        }
      ]
    },
    {
      "cell_type": "code",
      "source": [
        "#convert to lowercase\n",
        "a=\"HELLO\"\n",
        "print(a.lower())"
      ],
      "metadata": {
        "colab": {
          "base_uri": "https://localhost:8080/"
        },
        "id": "qwfGjIBRlOAD",
        "outputId": "e17da52d-be74-41ba-dea5-b4b01b8f8421"
      },
      "execution_count": 58,
      "outputs": [
        {
          "output_type": "stream",
          "name": "stdout",
          "text": [
            "hello\n"
          ]
        }
      ]
    },
    {
      "cell_type": "code",
      "source": [
        "#convert to Uppercase\n",
        "a=\"hello\"\n",
        "print(a.upper())"
      ],
      "metadata": {
        "colab": {
          "base_uri": "https://localhost:8080/"
        },
        "id": "V0b74pUJllUH",
        "outputId": "28a1fd5c-10c9-456a-8171-7c5ecdd70cbb"
      },
      "execution_count": 59,
      "outputs": [
        {
          "output_type": "stream",
          "name": "stdout",
          "text": [
            "HELLO\n"
          ]
        }
      ]
    },
    {
      "cell_type": "code",
      "source": [
        "#Swap\n",
        "a=\"LaKshAdwEEp\"\n",
        "print(a.swapcase())"
      ],
      "metadata": {
        "colab": {
          "base_uri": "https://localhost:8080/"
        },
        "id": "2ejyYSJTmFZw",
        "outputId": "f59667f9-1653-460e-ea83-f897be8840bb"
      },
      "execution_count": 63,
      "outputs": [
        {
          "output_type": "stream",
          "name": "stdout",
          "text": [
            "lAkSHaDWeeP\n"
          ]
        }
      ]
    },
    {
      "cell_type": "code",
      "source": [
        "#to replace a character\n",
        "a=\"kadmath\"\n",
        "print(a.replace(\"a\",\"i\"))"
      ],
      "metadata": {
        "colab": {
          "base_uri": "https://localhost:8080/"
        },
        "id": "-1d6gdaDslFo",
        "outputId": "88319efa-9fae-43a7-eb03-169955289b48"
      },
      "execution_count": 64,
      "outputs": [
        {
          "output_type": "stream",
          "name": "stdout",
          "text": [
            "kidmith\n"
          ]
        }
      ]
    },
    {
      "cell_type": "code",
      "source": [
        "#endswith\n",
        "a=\"Hello,world\"\n",
        "\n",
        "#using the endswith method\n",
        "b=a.endswith(\"world\")\n",
        "print(b)"
      ],
      "metadata": {
        "colab": {
          "base_uri": "https://localhost:8080/"
        },
        "id": "SZQ9zUw2tMmZ",
        "outputId": "b9108ba0-2652-474b-93b6-88b0d5052f83"
      },
      "execution_count": 67,
      "outputs": [
        {
          "output_type": "stream",
          "name": "stdout",
          "text": [
            "True\n"
          ]
        }
      ]
    },
    {
      "cell_type": "code",
      "source": [
        "#startswith\n",
        "a=\"Hello,world\"\n",
        "\n",
        "#using the startswith method\n",
        "b=a.startswith(\"Hello\")\n",
        "print(b)"
      ],
      "metadata": {
        "colab": {
          "base_uri": "https://localhost:8080/"
        },
        "id": "Decco-u8skie",
        "outputId": "e791797b-443f-458c-d77f-f38624be5924"
      },
      "execution_count": 69,
      "outputs": [
        {
          "output_type": "stream",
          "name": "stdout",
          "text": [
            "True\n"
          ]
        }
      ]
    },
    {
      "cell_type": "code",
      "source": [],
      "metadata": {
        "id": "mRM5CmIUlNxF"
      },
      "execution_count": null,
      "outputs": []
    }
  ]
}